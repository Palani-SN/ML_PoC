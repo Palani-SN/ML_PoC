{
 "cells": [
  {
   "cell_type": "code",
   "execution_count": null,
   "metadata": {},
   "outputs": [],
   "source": [
    "import mrcnn\n",
    "import mrcnn.config\n",
    "import mrcnn.model\n",
    "import mrcnn.visualize\n",
    "import cv2\n",
    "import os\n",
    "import random\n",
    "\n",
    "# load the class label names from disk\n",
    "CLASS_NAMES = ['BG'] + sorted([file[:-4] for file in os.listdir(f'hash_dataset{os.sep}identicons{os.sep}') if file.endswith('.png')])\n",
    "\n",
    "class HashConfig(mrcnn.config.Config):\n",
    "\n",
    "    NAME = \"hash_cfg\"\n",
    "\n",
    "    GPU_COUNT = 1\n",
    "    IMAGES_PER_GPU = 1\n",
    "\n",
    "    NUM_CLASSES = len(CLASS_NAMES)\n",
    "\n",
    "# Initialize the Mask R-CNN model for inference and then load the weights.\n",
    "# This step builds the keras model architecture\n",
    "model = mrcnn.model.MaskRCNN(mode=\"inference\",\n",
    "                             config=HashConfig(),\n",
    "                             model_dir='./')\n",
    "\n",
    "# Load the weights into the model\n",
    "model.load_weights(filepath=\"hash_mask_rcnn_trained.h5\", by_name=True)\n",
    "\n",
    "# load the input image, convert it from BGR to RGB channel\n",
    "Test_Dir = os.listdir(f\"hash_dataset{os.sep}samples\") # lists images from a directory\n",
    "image = cv2.imread(f\"hash_dataset{os.sep}samples{os.sep}\"+Test_Dir[random.randint(0, len(Test_Dir))]) # picks a random image from the directory\n",
    "image = cv2.cvtColor(image, cv2.COLOR_BGR2RGB)\n",
    "\n",
    "# Perform a forward pass of the network to obtain the results\n",
    "r = model.detect([image], verbose=0)\n",
    "\n",
    "# Get the results for the first image\n",
    "r = r[0]\n",
    "\n",
    "# Visualize the detected objects.\n",
    "mrcnn.visualize.display_instances(image=image,\n",
    "                                  boxes=r['rois'],\n",
    "                                  masks=r['masks'],\n",
    "                                  class_ids=r['class_ids'],\n",
    "                                  class_names=CLASS_NAMES,\n",
    "                                  scores=r['scores'])"
   ]
  }
 ],
 "metadata": {
  "language_info": {
   "name": "python"
  }
 },
 "nbformat": 4,
 "nbformat_minor": 2
}
