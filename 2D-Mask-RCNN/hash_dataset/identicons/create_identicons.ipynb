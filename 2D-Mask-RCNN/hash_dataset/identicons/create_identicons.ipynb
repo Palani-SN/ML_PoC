{
 "cells": [
  {
   "cell_type": "code",
   "execution_count": null,
   "metadata": {},
   "outputs": [],
   "source": [
    "import uuid\n",
    "import pydenticon\n",
    "\n",
    "generator = pydenticon.Generator(10, 10)\n",
    "\n",
    "class Identicon:\n",
    "\n",
    "    def __init__(self, inp_str:str = None) -> None:\n",
    "        \n",
    "        if inp_str == None:\n",
    "            inp_str = str(uuid.uuid4())\n",
    "        self.__uuid = inp_str\n",
    "\n",
    "    def save(self, fname):\n",
    "\n",
    "        identicon = generator.generate(self.__uuid, 50, 50, output_format=\"png\")\n",
    "        f = open(fname, \"wb\")\n",
    "        f.write(identicon)\n",
    "        f.close()\n",
    "\n",
    "if __name__ == '__main__':\n",
    "\n",
    "    identicon_list = [ Identicon() for i in range(0, 20) ]\n",
    "    for x in range(0, len(identicon_list)):\n",
    "        print(f'saving hash_{x}.png')\n",
    "        identicon_list[x].save(f'hash_{x}.png')"
   ]
  }
 ],
 "metadata": {
  "language_info": {
   "name": "python"
  }
 },
 "nbformat": 4,
 "nbformat_minor": 2
}
