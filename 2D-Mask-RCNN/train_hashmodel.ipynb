{
 "cells": [
  {
   "cell_type": "code",
   "execution_count": null,
   "metadata": {},
   "outputs": [],
   "source": [
    "import os\n",
    "import mrcnn.model\n",
    "import mrcnn.config\n",
    "\n",
    "from prepare_hashes import HashTrainDataset, HashTestDataset\n",
    "\n",
    "class HashConfig(mrcnn.config.Config):\n",
    "    NAME = \"hash_cfg\"\n",
    "\n",
    "    GPU_COUNT = 1\n",
    "    IMAGES_PER_GPU = 1\n",
    "\n",
    "    NUM_CLASSES = 1 + len([file[:-4] for file in os.listdir(f'hash_dataset{os.sep}identicons{os.sep}') if file.endswith('.png')])\n",
    "\n",
    "    STEPS_PER_EPOCH = 25\n",
    "\n",
    "# Train\n",
    "hash_train_dataset = HashTrainDataset()\n",
    "hash_train_dataset.load_dataset()\n",
    "hash_train_dataset.prepare()\n",
    "\n",
    "# Test\n",
    "hash_test_dataset = HashTestDataset()\n",
    "hash_test_dataset.load_dataset()\n",
    "hash_test_dataset.prepare()\n",
    "\n",
    "# Model Configuration\n",
    "hash_config = HashConfig()\n",
    "\n",
    "model = mrcnn.model.MaskRCNN(mode='training',\n",
    "                             model_dir='./',\n",
    "                             config=hash_config)\n",
    "\n",
    "model.load_weights(filepath='mask_rcnn_coco.h5',\n",
    "                   by_name=True,\n",
    "                   exclude=[\"mrcnn_class_logits\", \"mrcnn_bbox_fc\", \"mrcnn_bbox\", \"mrcnn_mask\"])\n",
    "\n",
    "model.train(\n",
    "    train_dataset=hash_train_dataset,\n",
    "    val_dataset=hash_test_dataset,\n",
    "    learning_rate=hash_config.LEARNING_RATE,\n",
    "    epochs=4,\n",
    "    layers='heads')\n",
    "\n",
    "model_path = 'hash_mask_rcnn_trained.h5'\n",
    "model.keras_model.save_weights(model_path)"
   ]
  }
 ],
 "metadata": {
  "language_info": {
   "name": "python"
  }
 },
 "nbformat": 4,
 "nbformat_minor": 2
}
